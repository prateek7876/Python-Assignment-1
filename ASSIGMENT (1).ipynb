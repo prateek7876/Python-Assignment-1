{
 "cells": [
  {
   "cell_type": "code",
   "execution_count": 2,
   "id": "7d9811c4-9e06-41e5-98a9-72d7680c95b5",
   "metadata": {},
   "outputs": [
    {
     "name": "stdout",
     "output_type": "stream",
     "text": [
      "Enter the first name : Government\n",
      "Enter the second name : university\n"
     ]
    },
    {
     "name": "stdout",
     "output_type": "stream",
     "text": [
      "ytisrevinu tnemnrevoG\n"
     ]
    }
   ],
   "source": [
    "a= input(\"Enter the first name :\") #in this code we get a input of first name from user and put in a variable a which act like a string variable \n",
    "b= input(\"Enter the second name :\") #in this section we do same work to take a input of last name from user and put in a variable b a string variable \n",
    "c= a+ \" \" +b #in this line we do concatenation of two variable a and b and store the final result in a variable c \n",
    "print(c[: :-1]) \n",
    "#and in final line we need a reverse output of the name that why we use c variable and pass a parameter in square bracket in which we do a reversing of string -1 measn it print string from lasr element to the first element in the reeverse order"
   ]
  },
  {
   "cell_type": "code",
   "execution_count": 4,
   "id": "0ab361b3-ba6e-40f4-bed3-54c3d30c8ebf",
   "metadata": {},
   "outputs": [
    {
     "name": "stdout",
     "output_type": "stream",
     "text": [
      "Enter the number : 50\n",
      "IN WHICH DATATYPE YOU WANT TO CONVERT FOR INT TYPE int FOR FLOAT TYPE flt FOR COMPLEX cmp  float\n"
     ]
    }
   ],
   "source": [
    "#In this code we take a input from user of number and store in the int variable a and then convert in other datatype \n",
    "a = int(input(\"Enter the number :\")) #taking a integer input from user and store in varaible a \n",
    "b = input(\"IN WHICH DATATYPE YOU WANT TO CONVERT FOR INT TYPE int FOR FLOAT TYPE flt FOR COMPLEX cmp \") #Then ask to user in thich dataype he/she want to conver if they want interger type int otherwise for float type flt or if they want complex then type cmp \n",
    "if b=='int': #if user type int then this parst of code execute that why we use if elif statement in this part\n",
    "    d = int(a) #and then we use type casting and convert the user input to integer and store in a new variable d \n",
    "    print(\"The Interger Value is\" , d) #and then print d \n",
    "elif b=='flt': #in case user type flt then this part of code is executed \n",
    "    d = float(a) #and same data casting work here also and convert user input into float \n",
    "    print(\"The Float Value is\" , d) #and print d \n",
    "elif b=='cmp' : #if user tye cmp then this part of code execute that why we use elif in both 2nd and 3rd line \n",
    "    d=complex(a) #in this user input is converted into complex number \n",
    "    print(\"The Complex Value is \" ,d) \n",
    "#then print d"
   ]
  },
  {
   "cell_type": "code",
   "execution_count": 5,
   "id": "14a082cc-e969-44a5-a864-46e6f004474d",
   "metadata": {},
   "outputs": [
    {
     "name": "stdout",
     "output_type": "stream",
     "text": [
      "Enter the length of the rectangle 30\n",
      "Enter the breadth of the rectangle  35\n"
     ]
    },
    {
     "name": "stdout",
     "output_type": "stream",
     "text": [
      "The Area of Rectangle is  1050\n"
     ]
    }
   ],
   "source": [
    "#In this code we take user input of length and breadth and the calculate the area of rectangle and then print it \n",
    "length_ = int(input(\"Enter the length of the rectangle\")) #in this line we take a integer input from user and store in the lenth_ variable\n",
    "breadth_ = int (input(\"Enter the breadth of the rectangle \")) #in this line we also take a integer input from user and store in the variable breadth_\n",
    "final_area = length_* breadth_ # we take another variable of final_area in which the value of lenth_ and breadth_ is multiplied because for area of rectangle we should multiply length and breadth\n",
    "print(\"The Area of Rectangle is \" , final_area) #then we use print command and print the final output"
   ]
  },
  {
   "cell_type": "code",
   "execution_count": 7,
   "id": "8b0f84b4-30a4-4cbc-82d8-29d810f7a6fb",
   "metadata": {},
   "outputs": [
    {
     "name": "stdout",
     "output_type": "stream",
     "text": [
      "Enter the first number:  4\n",
      "Enter the second number:  7\n",
      "Enter the third number:  9\n"
     ]
    },
    {
     "name": "stdout",
     "output_type": "stream",
     "text": [
      "The average of the three numbers is: 6.67\n"
     ]
    }
   ],
   "source": [
    "# Input three numbers from the user \n",
    "num1 = float(input(\"Enter the first number: \")) \n",
    "num2 = float(input(\"Enter the second number: \")) \n",
    "num3 = float(input(\"Enter the third number: \")) # Calculate the average \n",
    "average = (num1 + num2 + num3) / 3 # Print the average using the % method for string formatting \n",
    "print(\"The average of the three numbers is: %.2f\" % average)"
   ]
  },
  {
   "cell_type": "code",
   "execution_count": 8,
   "id": "4fe22f92-e541-4b23-9d0e-c48ae13dcf48",
   "metadata": {},
   "outputs": [
    {
     "name": "stdout",
     "output_type": "stream",
     "text": [
      "Enter a number:  -90\n"
     ]
    },
    {
     "name": "stdout",
     "output_type": "stream",
     "text": [
      "The number is negative.\n"
     ]
    }
   ],
   "source": [
    "# Ask the user for a number\n",
    "number = float(input(\"Enter a number: \")) # Determine if the number is positive, negative, or zero using if elif and else statement\n",
    "if number > 0: \n",
    "    print(\"The number is positive.\") \n",
    "elif number < 0:\n",
    "    print(\"The number is negative.\") \n",
    "else: \n",
    "    print(\"The number is zero.\")"
   ]
  },
  {
   "cell_type": "code",
   "execution_count": 14,
   "id": "c4a11503-61fb-421f-91fe-1a8edde5bec3",
   "metadata": {},
   "outputs": [
    {
     "name": "stdout",
     "output_type": "stream",
     "text": [
      "Enter a number (or type 'exit' to quit):  0\n"
     ]
    },
    {
     "name": "stdout",
     "output_type": "stream",
     "text": [
      "The number is zero.\n"
     ]
    },
    {
     "name": "stdout",
     "output_type": "stream",
     "text": [
      "Enter a number (or type 'exit' to quit):  exit\n"
     ]
    },
    {
     "name": "stdout",
     "output_type": "stream",
     "text": [
      "Exiting the program Goodbye!\n"
     ]
    }
   ],
   "source": [
    "while True: \n",
    "    # Ask the user for input\n",
    "    user_input = input(\"Enter a number (or type 'exit' to quit): \")\n",
    "# Check if the user wants to exit\n",
    "    if user_input.lower() == 'exit': \n",
    "        print(\"Exiting the program Goodbye!\")\n",
    "        break \n",
    "    else:\n",
    "        # Convert input to a float and determine if it is positive, negative, or zero\n",
    "        number = float(user_input) \n",
    "        if number > 0: \n",
    "            print(\"The number is positive.\") \n",
    "        elif number < 0:\n",
    "            print(\"The number is negative.\") \n",
    "        else: \n",
    "            print(\"The number is zero.\")"
   ]
  },
  {
   "cell_type": "code",
   "execution_count": 15,
   "id": "a989902f-5bb7-4aa8-b764-ed52ac0c7bc7",
   "metadata": {},
   "outputs": [
    {
     "name": "stdout",
     "output_type": "stream",
     "text": [
      "Enter the first number:  5\n",
      "Enter the second number:  3\n"
     ]
    },
    {
     "name": "stdout",
     "output_type": "stream",
     "text": [
      "Both numbers are odd.\n"
     ]
    }
   ],
   "source": [
    "# Input two numbers from the user \n",
    "first_number = int(input(\"Enter the first number: \")) \n",
    "second_number = int(input(\"Enter the second number: \")) \n",
    "# Check whether both numbers are even, odd, or one of each using relational and logical operator \n",
    "if first_number % 2 == 0 and second_number % 2 == 0: \n",
    "    print(\"Both numbers are even.\") \n",
    "elif first_number % 2 != 0 and second_number % 2 != 0: \n",
    "    print(\"Both numbers are odd.\") \n",
    "else:\n",
    "    print(\"One number is even and the other is odd.\")"
   ]
  },
  {
   "cell_type": "code",
   "execution_count": 19,
   "id": "1db4e6e2-1e43-447a-87fb-c1e0167d634f",
   "metadata": {},
   "outputs": [
    {
     "name": "stdout",
     "output_type": "stream",
     "text": [
      "Enter an integer:  67\n"
     ]
    },
    {
     "name": "stdout",
     "output_type": "stream",
     "text": [
      "Binary: 1000011\n",
      "Octal: 103\n",
      "Hexadecimal: 10\n"
     ]
    }
   ],
   "source": [
    "# Function to convert a number to binary, octal, and hexadecimal using bitwise operations \n",
    "def convert_number(num): \n",
    "    # Binary conversion \n",
    "    binary = '' \n",
    "    for i in range(num.bit_length(), -1, -1):\n",
    "        binary += '1' if (num >> i) & 1 else '0' \n",
    "    binary = binary.lstrip('0') or '0' # Remove leading zeros \n",
    "    # Octal conversion \n",
    "    octal = '' \n",
    "    for i in range(num.bit_length() - 1, -1, -3): # Group by 3 bits for octal \n",
    "         octal_digit = (num >> i) & 7 # Extract 3 bits at a time \n",
    "         octal += str(octal_digit) \n",
    "    octal = octal.lstrip('0') or '0' # Remove leading zeros \n",
    "    # Hexadecimal conversion \n",
    "    hex_digits = \"0123456789ABCDEF\" \n",
    "    hexadecimal = '' \n",
    "    for i in range(num.bit_length() - 1, -1, -4): # Group by 4 bits for hexadecimal \n",
    "         hex_digit = (num >> i) & 15 # Extract 4 bits at a time \n",
    "         hexadecimal += hex_digits[hex_digit] \n",
    "    hexadecimal = hexadecimal.lstrip('0') or '0' # Remove leading zeros \n",
    "\n",
    "    print(f\"Binary: {binary}\") \n",
    "    print(f\"Octal: {octal}\") \n",
    "    print(f\"Hexadecimal: {hexadecimal}\") \n",
    "# Take integer input from the user \n",
    "number = int(input(\"Enter an integer: \")) \n",
    "convert_number(number)"
   ]
  },
  {
   "cell_type": "code",
   "execution_count": null,
   "id": "1363d9eb-2236-40e1-948b-4c9c8e77743c",
   "metadata": {},
   "outputs": [],
   "source": [
    "import sys\n",
    "print ('Name : Prateek')\n",
    "print ('Course : MCA')\n",
    "print ('Python Version : ', sys.version)"
   ]
  },
  {
   "cell_type": "code",
   "execution_count": null,
   "id": "7bea8c6e-5e11-4db0-9b90-be4e4d0f5b0d",
   "metadata": {},
   "outputs": [],
   "source": []
  }
 ],
 "metadata": {
  "kernelspec": {
   "display_name": "Python 3 (ipykernel)",
   "language": "python",
   "name": "python3"
  },
  "language_info": {
   "codemirror_mode": {
    "name": "ipython",
    "version": 3
   },
   "file_extension": ".py",
   "mimetype": "text/x-python",
   "name": "python",
   "nbconvert_exporter": "python",
   "pygments_lexer": "ipython3",
   "version": "3.12.4"
  }
 },
 "nbformat": 4,
 "nbformat_minor": 5
}
